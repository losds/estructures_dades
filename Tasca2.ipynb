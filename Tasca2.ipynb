{
 "cells": [
  {
   "cell_type": "markdown",
   "metadata": {},
   "source": [
    "# Exercici 1\n",
    "\n",
    "Crea una llista que agrupi els mesos de l’any en trimestres (1T: Gener, Febrer i Març, 2T: Abril, Maig, Juny...), és a dir, una llista amb 4 llistes dins."
   ]
  },
  {
   "cell_type": "code",
   "execution_count": 10,
   "metadata": {},
   "outputs": [],
   "source": [
    "mesestrimestre = [['Gener','Febrer','Març'],['Abril','Maig','Juny'],['Juliol','Agost','Setembre'],['Octubre', 'Novembre','Desembre']]"
   ]
  },
  {
   "cell_type": "code",
   "execution_count": 11,
   "metadata": {},
   "outputs": [
    {
     "data": {
      "text/plain": [
       "[['Gener', 'Febrer', 'Març'],\n",
       " ['Abril', 'Maig', 'Juny'],\n",
       " ['Juliol', 'Agost', 'Setembre'],\n",
       " ['Octubre', 'Novembre', 'Desembre']]"
      ]
     },
     "execution_count": 11,
     "metadata": {},
     "output_type": "execute_result"
    }
   ],
   "source": [
    "mesestrimestre"
   ]
  },
  {
   "cell_type": "code",
   "execution_count": 13,
   "metadata": {},
   "outputs": [
    {
     "data": {
      "text/plain": [
       "'Maig'"
      ]
     },
     "execution_count": 13,
     "metadata": {},
     "output_type": "execute_result"
    }
   ],
   "source": [
    "mesestrimestre[1][1]"
   ]
  },
  {
   "cell_type": "markdown",
   "metadata": {},
   "source": [
    "# Exercici 2"
   ]
  },
  {
   "cell_type": "markdown",
   "metadata": {},
   "source": [
    "Funcion recibe como paramero lista de listas y devuelve seundo mes del primer trimestre"
   ]
  },
  {
   "cell_type": "code",
   "execution_count": 15,
   "metadata": {},
   "outputs": [],
   "source": [
    "def segonmesprimertrimestre(meses):\n",
    "    return meses[0][1]\n",
    "    "
   ]
  },
  {
   "cell_type": "markdown",
   "metadata": {},
   "source": [
    "- El segon més del primer trimestre"
   ]
  },
  {
   "cell_type": "code",
   "execution_count": 16,
   "metadata": {},
   "outputs": [
    {
     "data": {
      "text/plain": [
       "'Febrer'"
      ]
     },
     "execution_count": 16,
     "metadata": {},
     "output_type": "execute_result"
    }
   ],
   "source": [
    "segonmesprimertrimestre(mesestrimestre)"
   ]
  },
  {
   "cell_type": "markdown",
   "metadata": {},
   "source": [
    "## Els mesos del primer trimestre"
   ]
  },
  {
   "cell_type": "markdown",
   "metadata": {},
   "source": [
    "Funcion devuelve meses del primer trimestre"
   ]
  },
  {
   "cell_type": "code",
   "execution_count": 21,
   "metadata": {},
   "outputs": [],
   "source": [
    "def mesesprimertrimestre(lista):\n",
    "    return lista[0]"
   ]
  },
  {
   "cell_type": "code",
   "execution_count": 22,
   "metadata": {},
   "outputs": [
    {
     "data": {
      "text/plain": [
       "['Gener', 'Febrer', 'Març']"
      ]
     },
     "execution_count": 22,
     "metadata": {},
     "output_type": "execute_result"
    }
   ],
   "source": [
    "mesesprimertrimestre(mesestrimestre)"
   ]
  },
  {
   "cell_type": "markdown",
   "metadata": {},
   "source": [
    "## Setembre i octubre"
   ]
  },
  {
   "cell_type": "code",
   "execution_count": 25,
   "metadata": {},
   "outputs": [],
   "source": [
    "def getOctubre(lista):\n",
    "    return lista[3][0]\n",
    "    "
   ]
  },
  {
   "cell_type": "code",
   "execution_count": 27,
   "metadata": {},
   "outputs": [
    {
     "data": {
      "text/plain": [
       "'Octubre'"
      ]
     },
     "execution_count": 27,
     "metadata": {},
     "output_type": "execute_result"
    }
   ],
   "source": [
    "getOctubre(mesestrimestre)"
   ]
  },
  {
   "cell_type": "code",
   "execution_count": 30,
   "metadata": {},
   "outputs": [],
   "source": [
    "def getSeptembre(lista):\n",
    "    return lista[2][2]"
   ]
  },
  {
   "cell_type": "code",
   "execution_count": 31,
   "metadata": {},
   "outputs": [
    {
     "data": {
      "text/plain": [
       "'Setembre'"
      ]
     },
     "execution_count": 31,
     "metadata": {},
     "output_type": "execute_result"
    }
   ],
   "source": [
    "getSeptembre(mesestrimestre)"
   ]
  },
  {
   "cell_type": "markdown",
   "metadata": {},
   "source": [
    "# Exercici 3"
   ]
  },
  {
   "cell_type": "code",
   "execution_count": 2,
   "metadata": {},
   "outputs": [],
   "source": [
    "import random"
   ]
  },
  {
   "cell_type": "code",
   "execution_count": 4,
   "metadata": {},
   "outputs": [],
   "source": [
    "res = [random.randrange(1, 50, 1) for i in range(7)]\n",
    "ress=[random.randrange(1,1000,1) for i in range(100)]\n",
    "random.seed(357)"
   ]
  },
  {
   "cell_type": "code",
   "execution_count": 5,
   "metadata": {},
   "outputs": [
    {
     "name": "stdout",
     "output_type": "stream",
     "text": [
      "[763, 348, 69, 362, 197, 864, 705, 715, 37, 745, 704, 211, 702, 510, 453, 569, 740, 225, 808, 130, 900, 213, 632, 914, 272, 285, 738, 648, 355, 182, 785, 750, 318, 461, 7, 273, 695, 836, 349, 795, 449, 507, 550, 752, 777, 196, 467, 380, 904, 223, 174, 735, 926, 254, 514, 135, 402, 548, 975, 466, 834, 883, 210, 556, 60, 915, 312, 212, 503, 602, 607, 291, 804, 804, 804, 926, 515, 403, 921, 324, 268, 351, 178, 313, 287, 375, 666, 820, 725, 3, 424, 180, 819, 543, 128, 274, 620, 942, 855, 990]\n"
     ]
    }
   ],
   "source": [
    "print(ress)"
   ]
  },
  {
   "cell_type": "markdown",
   "metadata": {},
   "source": [
    "###### Quants números hi ha?"
   ]
  },
  {
   "cell_type": "code",
   "execution_count": 6,
   "metadata": {},
   "outputs": [
    {
     "data": {
      "text/plain": [
       "100"
      ]
     },
     "execution_count": 6,
     "metadata": {},
     "output_type": "execute_result"
    }
   ],
   "source": [
    "len(ress)"
   ]
  },
  {
   "cell_type": "markdown",
   "metadata": {},
   "source": [
    "###### Quantes vegades apareix el número 3"
   ]
  },
  {
   "cell_type": "code",
   "execution_count": 7,
   "metadata": {},
   "outputs": [
    {
     "data": {
      "text/plain": [
       "1"
      ]
     },
     "execution_count": 7,
     "metadata": {},
     "output_type": "execute_result"
    }
   ],
   "source": [
    "len([elem for elem in ress if elem==3])"
   ]
  },
  {
   "cell_type": "markdown",
   "metadata": {},
   "source": [
    "###### Quantes vegades apareixen els nombres 3 i 4?"
   ]
  },
  {
   "cell_type": "code",
   "execution_count": 8,
   "metadata": {},
   "outputs": [
    {
     "data": {
      "text/plain": [
       "1"
      ]
     },
     "execution_count": 8,
     "metadata": {},
     "output_type": "execute_result"
    }
   ],
   "source": [
    "len([elem for elem in ress if elem==3 or elem==4])"
   ]
  },
  {
   "cell_type": "markdown",
   "metadata": {},
   "source": [
    "###### Quin és el número més gran?"
   ]
  },
  {
   "cell_type": "code",
   "execution_count": 48,
   "metadata": {},
   "outputs": [
    {
     "data": {
      "text/plain": [
       "991"
      ]
     },
     "execution_count": 48,
     "metadata": {},
     "output_type": "execute_result"
    }
   ],
   "source": [
    "max(ress)"
   ]
  },
  {
   "cell_type": "markdown",
   "metadata": {},
   "source": [
    "###### Quins són els 3 números més petits?"
   ]
  },
  {
   "cell_type": "markdown",
   "metadata": {},
   "source": [
    "Ordenamos la lista"
   ]
  },
  {
   "cell_type": "code",
   "execution_count": 9,
   "metadata": {},
   "outputs": [],
   "source": [
    "ress.sort()"
   ]
  },
  {
   "cell_type": "code",
   "execution_count": 56,
   "metadata": {},
   "outputs": [
    {
     "name": "stdout",
     "output_type": "stream",
     "text": [
      "3 15 26\n"
     ]
    }
   ],
   "source": [
    "print(ress[0],ress[1],ress[2])"
   ]
  },
  {
   "cell_type": "markdown",
   "metadata": {},
   "source": [
    "###### Quin és el rang d’aquesta llista?"
   ]
  },
  {
   "cell_type": "code",
   "execution_count": 12,
   "metadata": {},
   "outputs": [
    {
     "name": "stdout",
     "output_type": "stream",
     "text": [
      "Rango es   987\n"
     ]
    }
   ],
   "source": [
    "print ( \"Rango es  \",max(ress)- min(ress) )"
   ]
  },
  {
   "cell_type": "code",
   "execution_count": 18,
   "metadata": {},
   "outputs": [
    {
     "name": "stdout",
     "output_type": "stream",
     "text": [
      "Valor max 990, y min3\n"
     ]
    }
   ],
   "source": [
    "print ( f\"Valor max {max(ress)}, y min{min(ress) }\" )"
   ]
  },
  {
   "cell_type": "markdown",
   "metadata": {},
   "source": [
    "# Exercici 4"
   ]
  },
  {
   "cell_type": "markdown",
   "metadata": {},
   "source": [
    "###### Crea un diccionari de la següent forma i respon a les preguntes:\n",
    "\n",
    "###### compra = { \"Pomes\" : {\"Qty\": 5, \"€\": 0.42}, \"Peres\" : {\"Qty\": 3, \"€\": 0.66} }"
   ]
  },
  {
   "cell_type": "code",
   "execution_count": 19,
   "metadata": {},
   "outputs": [],
   "source": [
    "compra = { \"Pomes\" : {\"Qty\": 5, \"€\": 0.42}, \"Peres\" : {\"Qty\": 3, \"€\": 0.66} }"
   ]
  },
  {
   "cell_type": "markdown",
   "metadata": {},
   "source": [
    "###### Afegeix alguna fruita més"
   ]
  },
  {
   "cell_type": "code",
   "execution_count": 67,
   "metadata": {},
   "outputs": [
    {
     "data": {
      "text/plain": [
       "{'Pomes': {'Qty': 5, '€': 0.42}, 'Peres': {'Qty': 3, '€': 0.66}}"
      ]
     },
     "execution_count": 67,
     "metadata": {},
     "output_type": "execute_result"
    }
   ],
   "source": [
    "compra"
   ]
  },
  {
   "cell_type": "code",
   "execution_count": 21,
   "metadata": {},
   "outputs": [],
   "source": [
    "compra[\"Kiwi\"]={\"Qty\":3,\"€\":0.45}"
   ]
  },
  {
   "cell_type": "code",
   "execution_count": 22,
   "metadata": {},
   "outputs": [
    {
     "data": {
      "text/plain": [
       "{'Pomes': {'Qty': 5, '€': 0.42},\n",
       " 'Peres': {'Qty': 3, '€': 0.66},\n",
       " 'Kiwi': {'Qty': 3, '€': 0.45}}"
      ]
     },
     "execution_count": 22,
     "metadata": {},
     "output_type": "execute_result"
    }
   ],
   "source": [
    "compra"
   ]
  },
  {
   "cell_type": "markdown",
   "metadata": {},
   "source": [
    "###### Quant han costat les peres en total?"
   ]
  },
  {
   "cell_type": "code",
   "execution_count": 78,
   "metadata": {},
   "outputs": [
    {
     "data": {
      "text/plain": [
       "1.98"
      ]
     },
     "execution_count": 78,
     "metadata": {},
     "output_type": "execute_result"
    }
   ],
   "source": [
    "compra.get(\"Peres\").get('Qty')*compra.get(\"Peres\").get('€')"
   ]
  },
  {
   "cell_type": "code",
   "execution_count": 136,
   "metadata": {},
   "outputs": [
    {
     "name": "stdout",
     "output_type": "stream",
     "text": [
      "key Qty\n",
      "v 3\n",
      "key €\n",
      "v 0.66\n"
     ]
    }
   ],
   "source": [
    "for key,v in compra.get(\"Peres\").items():\n",
    "    print(\"key\",key)\n",
    "    print(\"v\",v)\n",
    "     \n",
    "    \n",
    "    \n",
    "    "
   ]
  },
  {
   "cell_type": "code",
   "execution_count": 128,
   "metadata": {},
   "outputs": [
    {
     "name": "stdout",
     "output_type": "stream",
     "text": [
      "fruta Pomes\n",
      "Qty\n",
      "5\n",
      "€\n",
      "0.42\n",
      "fruta Peres\n",
      "Qty\n",
      "3\n",
      "€\n",
      "0.66\n",
      "fruta Kiwi\n",
      "Qty\n",
      "3\n",
      "€\n",
      "0.45\n"
     ]
    }
   ],
   "source": [
    "for key, value in compra.items():\n",
    "    print( \"fruta\", key)\n",
    "    for keys,v in compra.get(key).items():\n",
    "        print(keys)\n",
    "        print(v)\n",
    "     "
   ]
  },
  {
   "cell_type": "code",
   "execution_count": 119,
   "metadata": {},
   "outputs": [
    {
     "name": "stdout",
     "output_type": "stream",
     "text": [
      "Pomes\n",
      "0.66\n",
      "Peres\n",
      "0.66\n",
      "Kiwi\n",
      "0.66\n"
     ]
    }
   ],
   "source": [
    "for key in compra.keys():\n",
    "    print(key)\n",
    "    print(v)"
   ]
  },
  {
   "cell_type": "code",
   "execution_count": 77,
   "metadata": {},
   "outputs": [
    {
     "data": {
      "text/plain": [
       "3"
      ]
     },
     "execution_count": 77,
     "metadata": {},
     "output_type": "execute_result"
    }
   ],
   "source": [
    "per.get('Qty')"
   ]
  },
  {
   "cell_type": "markdown",
   "metadata": {},
   "source": [
    "###### Quantes fruites hem comprat en total?"
   ]
  },
  {
   "cell_type": "code",
   "execution_count": 143,
   "metadata": {},
   "outputs": [
    {
     "name": "stdout",
     "output_type": "stream",
     "text": [
      "fruta Pomes\n",
      "keys Qty\n",
      "v 5\n",
      "keys €\n",
      "v 0.42\n",
      "fruta Peres\n",
      "keys Qty\n",
      "v 3\n",
      "keys €\n",
      "v 0.66\n",
      "fruta Kiwi\n",
      "keys Qty\n",
      "v 3\n",
      "keys €\n",
      "v 0.45\n"
     ]
    }
   ],
   "source": [
    "total_fruta=0\n",
    "for key, value in compra.items():\n",
    "    print( \"fruta\", key)\n",
    "    for keys,v in compra.get(key).items():\n",
    "        print(\"keys\",keys)\n",
    "        if keys=='Qty':\n",
    "            total_fruta=total_fruta+v\n",
    "        print(\"v\",v)"
   ]
  },
  {
   "cell_type": "code",
   "execution_count": 141,
   "metadata": {},
   "outputs": [
    {
     "data": {
      "text/plain": [
       "11"
      ]
     },
     "execution_count": 141,
     "metadata": {},
     "output_type": "execute_result"
    }
   ],
   "source": [
    "total_fruta"
   ]
  },
  {
   "cell_type": "markdown",
   "metadata": {},
   "source": [
    "###### Quina és la fruita més cara?"
   ]
  },
  {
   "cell_type": "code",
   "execution_count": 23,
   "metadata": {},
   "outputs": [
    {
     "name": "stdout",
     "output_type": "stream",
     "text": [
      "fruta Pomes\n",
      "keys Qty\n",
      "v 5\n",
      "keys €\n",
      "v 0.42\n",
      "fruta Peres\n",
      "keys Qty\n",
      "v 3\n",
      "keys €\n",
      "v 0.66\n",
      "fruta Kiwi\n",
      "keys Qty\n",
      "v 3\n",
      "keys €\n",
      "v 0.45\n"
     ]
    }
   ],
   "source": [
    "mes_cara=0\n",
    "fruta=\"\"\n",
    "for key, value in compra.items():\n",
    "    print( \"fruta\", key)\n",
    "    for keys,v in compra.get(key).items():\n",
    "        print(\"keys\",keys)\n",
    "        if keys=='€':\n",
    "            if mes_cara<v:\n",
    "                mes_cara=v\n",
    "                fruta=key\n",
    "        print(\"v\",v)"
   ]
  },
  {
   "cell_type": "code",
   "execution_count": 26,
   "metadata": {},
   "outputs": [
    {
     "name": "stdout",
     "output_type": "stream",
     "text": [
      "Fruta mas cara Peres, y cuesta 0.66€\n"
     ]
    }
   ],
   "source": [
    "print (f\"Fruta mas cara {fruta}, y cuesta {mes_cara}€\")"
   ]
  },
  {
   "cell_type": "code",
   "execution_count": null,
   "metadata": {},
   "outputs": [],
   "source": []
  }
 ],
 "metadata": {
  "kernelspec": {
   "display_name": "Python 3",
   "language": "python",
   "name": "python3"
  },
  "language_info": {
   "codemirror_mode": {
    "name": "ipython",
    "version": 3
   },
   "file_extension": ".py",
   "mimetype": "text/x-python",
   "name": "python",
   "nbconvert_exporter": "python",
   "pygments_lexer": "ipython3",
   "version": "3.8.3"
  }
 },
 "nbformat": 4,
 "nbformat_minor": 4
}
